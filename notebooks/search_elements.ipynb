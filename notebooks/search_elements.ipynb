{
 "cells": [
  {
   "cell_type": "code",
   "execution_count": 88,
   "metadata": {},
   "outputs": [],
   "source": [
    "import ast, textwrap\n",
    "from pathlib import Path\n",
    "from bs4 import BeautifulSoup\n",
    "from selenium.webdriver.common.by import By\n",
    "from selenium.webdriver.common.keys import Keys\n",
    "from selenium.webdriver.support.ui import WebDriverWait\n",
    "from selenium.webdriver.support import expected_conditions as EC\n",
    "import undetected_chromedriver as uc\n",
    "from selenium.webdriver.chrome.options import Options\n"
   ]
  },
  {
   "cell_type": "code",
   "execution_count": 89,
   "metadata": {},
   "outputs": [
    {
     "name": "stdout",
     "output_type": "stream",
     "text": [
      "file:///Users/vascomeerman/Coding/Django/Projects/gpt4-image-api/notebooks/../page_html/example_generate.html\n"
     ]
    }
   ],
   "source": [
    "PATH_HTML_FILE = \"../page_html/example_generate.html\"\n",
    "\n",
    "\n",
    "# Make the path into an uri as selenium needs to \n",
    "html_file = Path.cwd() / PATH_HTML_FILE\n",
    "print(html_file.as_uri())"
   ]
  },
  {
   "cell_type": "code",
   "execution_count": 90,
   "metadata": {},
   "outputs": [
    {
     "data": {
      "text/plain": [
       "'ChatGPT'"
      ]
     },
     "execution_count": 90,
     "metadata": {},
     "output_type": "execute_result"
    }
   ],
   "source": [
    "options = uc.ChromeOptions()\n",
    "\n",
    "# Need to have an ui for content to work plus js needs to be disabled else its removed\n",
    "options.headless = False\n",
    "options.add_experimental_option( \"prefs\",{'profile.managed_default_content_settings.javascript': 2})\n",
    "driver = uc.Chrome(options=options)\n",
    "\n",
    "\n",
    "# open new chat\n",
    "driver.get(html_file.as_uri())\n",
    "\n",
    "# Sanity check\n",
    "driver.title"
   ]
  },
  {
   "cell_type": "code",
   "execution_count": 85,
   "metadata": {},
   "outputs": [
    {
     "data": {
      "text/plain": [
       "<undetected_chromedriver.webelement.WebElement (session=\"cd717718ffc344afcc4175efdd64f6d9\", element=\"CED006970CFF7A1E136B8C8F56D98BB0_element_22\")>"
      ]
     },
     "execution_count": 85,
     "metadata": {},
     "output_type": "execute_result"
    }
   ],
   "source": [
    "# Finds the div containing the html generated output\n",
    "stop_button = driver.find_element(\n",
    "            By.XPATH, \"//button[@aria-label='Stop generating']\"\n",
    "        )\n",
    "\n",
    "stop_button"
   ]
  },
  {
   "cell_type": "code",
   "execution_count": 86,
   "metadata": {},
   "outputs": [
    {
     "name": "stdout",
     "output_type": "stream",
     "text": [
      "done biatchjhhhh\n"
     ]
    }
   ],
   "source": [
    "stop_button = (By.XPATH, \"//button[@aria-label='Stop generating']\")\n",
    "WebDriverWait(driver, 120).until(EC.presence_of_element_located(stop_button))\n",
    "\n",
    "\n",
    "print(\"done biatchjhhhh\")"
   ]
  },
  {
   "cell_type": "code",
   "execution_count": 87,
   "metadata": {},
   "outputs": [
    {
     "name": "stdout",
     "output_type": "stream",
     "text": [
      "'\\n'\n"
     ]
    }
   ],
   "source": [
    "# Finds the div containing the html generated output\n",
    "output_element = driver.find_element(\n",
    "            By.XPATH, \"//div[starts-with(@class, 'markdown prose w-full')]\"\n",
    "        )\n",
    "\n",
    "# Removes all the extra in between spaces while keeping the newlines /n\n",
    "gen_content = repr(textwrap.dedent(output_element.text))\n",
    "# gen_content = ast.literal_eval(gen_content)\n",
    "\n",
    "\n",
    "print(gen_content)\n",
    "\n"
   ]
  },
  {
   "cell_type": "code",
   "execution_count": null,
   "metadata": {},
   "outputs": [],
   "source": []
  }
 ],
 "metadata": {
  "kernelspec": {
   "display_name": "gpt4-image-api-vb8KqbGo",
   "language": "python",
   "name": "python3"
  },
  "language_info": {
   "codemirror_mode": {
    "name": "ipython",
    "version": 3
   },
   "file_extension": ".py",
   "mimetype": "text/x-python",
   "name": "python",
   "nbconvert_exporter": "python",
   "pygments_lexer": "ipython3",
   "version": "3.11.2"
  }
 },
 "nbformat": 4,
 "nbformat_minor": 2
}
