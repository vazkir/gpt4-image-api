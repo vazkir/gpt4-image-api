{
 "cells": [
  {
   "cell_type": "code",
   "execution_count": 66,
   "metadata": {},
   "outputs": [],
   "source": [
    "import ast, textwrap\n",
    "from pathlib import Path\n",
    "from bs4 import BeautifulSoup\n",
    "from selenium.webdriver.common.by import By\n",
    "from selenium.webdriver.common.keys import Keys\n",
    "from selenium.webdriver.support.ui import WebDriverWait\n",
    "from selenium.webdriver.support import expected_conditions as EC\n",
    "import undetected_chromedriver as uc\n",
    "from selenium.webdriver.chrome.options import Options\n"
   ]
  },
  {
   "cell_type": "code",
   "execution_count": 70,
   "metadata": {},
   "outputs": [
    {
     "name": "stdout",
     "output_type": "stream",
     "text": [
      "file:///Users/vascomeerman/Coding/Django/Projects/gpt4-image-api/notebooks/../page_html/example_generate.html\n"
     ]
    }
   ],
   "source": [
    "PATH_HTML_FILE = \"../page_html/example_generate.html\"\n",
    "\n",
    "html_file = Path.cwd() / PATH_HTML_FILE\n",
    "print(html_file.as_uri())\n",
    "\n",
    "\n"
   ]
  },
  {
   "cell_type": "code",
   "execution_count": 71,
   "metadata": {},
   "outputs": [],
   "source": [
    "options = uc.ChromeOptions()\n",
    "options.headless = False\n",
    "options.add_experimental_option( \"prefs\",{'profile.managed_default_content_settings.javascript': 2})\n",
    "\n",
    "driver = uc.Chrome(options=options)\n",
    "\n",
    "\n",
    "# open new chat\n",
    "driver.get(html_file.as_uri())"
   ]
  },
  {
   "cell_type": "code",
   "execution_count": 72,
   "metadata": {},
   "outputs": [
    {
     "data": {
      "text/plain": [
       "'ChatGPT'"
      ]
     },
     "execution_count": 72,
     "metadata": {},
     "output_type": "execute_result"
    }
   ],
   "source": [
    "driver.title"
   ]
  },
  {
   "cell_type": "code",
   "execution_count": 74,
   "metadata": {},
   "outputs": [
    {
     "data": {
      "text/plain": [
       "''"
      ]
     },
     "execution_count": 74,
     "metadata": {},
     "output_type": "execute_result"
    }
   ],
   "source": [
    "# Finds the div containing the html generated output\n",
    "stop_button = driver.find_element(\n",
    "            By.XPATH, \"//button[@aria-label='Stop generating']\"\n",
    "        )\n",
    "\n",
    "stop_button.text"
   ]
  },
  {
   "cell_type": "code",
   "execution_count": 77,
   "metadata": {},
   "outputs": [
    {
     "name": "stdout",
     "output_type": "stream",
     "text": [
      "done biatchjhhhh\n"
     ]
    }
   ],
   "source": [
    "stop_button = (By.XPATH, \"//button[@aria-label='Stop generating']\")\n",
    "WebDriverWait(driver, 120).until(EC.presence_of_element_located(stop_button))\n",
    "\n",
    "\n",
    "print(\"done biatchjhhhh\")"
   ]
  },
  {
   "cell_type": "code",
   "execution_count": 68,
   "metadata": {},
   "outputs": [
    {
     "name": "stdout",
     "output_type": "stream",
     "text": [
      "\"This is a beautiful photograph of the Eiffel Tower in Paris, taken at twilight.\\n  The sky has a deep blue hue, indicative of the time just after sunset known as the\\n  blue hour. The Eiffel Tower is illuminated, creating a warm golden glow that\\n  contrasts with the cool blue of the sky. There's a reflection at the bottom of the\\n  photo, suggesting that the image might have been taken near a body of water or a\\n  wet surface that is mirroring the structure, adding to the symmetry and visual\\n  appeal of the composition. This iconic landmark is not only a symbol of Paris but\\n  also of France and is one of the most recognizable structures in the world.\\n\"\n"
     ]
    }
   ],
   "source": [
    "# Finds the div containing the html generated output\n",
    "output_element = driver.find_element(\n",
    "            By.XPATH, \"//div[starts-with(@class, 'markdown prose w-full')]\"\n",
    "        )\n",
    "\n",
    "# Removes all the extra in between spaces while keeping the newlines /n\n",
    "gen_content = repr(textwrap.dedent(output_element.text))\n",
    "# gen_content = ast.literal_eval(gen_content)\n",
    "\n",
    "\n",
    "print(gen_content)\n",
    "\n"
   ]
  },
  {
   "cell_type": "code",
   "execution_count": null,
   "metadata": {},
   "outputs": [],
   "source": []
  }
 ],
 "metadata": {
  "kernelspec": {
   "display_name": "gpt4-image-api-vb8KqbGo",
   "language": "python",
   "name": "python3"
  },
  "language_info": {
   "codemirror_mode": {
    "name": "ipython",
    "version": 3
   },
   "file_extension": ".py",
   "mimetype": "text/x-python",
   "name": "python",
   "nbconvert_exporter": "python",
   "pygments_lexer": "ipython3",
   "version": "3.11.2"
  }
 },
 "nbformat": 4,
 "nbformat_minor": 2
}
